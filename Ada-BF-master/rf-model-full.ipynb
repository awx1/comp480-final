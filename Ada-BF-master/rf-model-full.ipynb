{
 "cells": [
  {
   "cell_type": "code",
   "execution_count": 1,
   "metadata": {},
   "outputs": [],
   "source": [
    "import numpy as np \n",
    "import pandas as pd"
   ]
  },
  {
   "cell_type": "code",
   "execution_count": 17,
   "metadata": {},
   "outputs": [
    {
     "name": "stderr",
     "output_type": "stream",
     "text": [
      "/anaconda3/lib/python3.6/site-packages/gensim/similarities/__init__.py:15: UserWarning: The gensim.similarities.levenshtein submodule is disabled, because the optional Levenshtein package <https://pypi.org/project/python-Levenshtein/> is unavailable. Install Levenhstein (e.g. `pip install python-Levenshtein`) to suppress this warning.\n",
      "  warnings.warn(msg)\n",
      "/anaconda3/lib/python3.6/site-packages/sklearn/utils/deprecation.py:143: FutureWarning: The sklearn.feature_extraction.stop_words module is  deprecated in version 0.22 and will be removed in version 0.24. The corresponding classes / functions should instead be imported from sklearn.feature_extraction.text. Anything that cannot be imported from sklearn.feature_extraction.text is now part of the private API.\n",
      "  warnings.warn(message, FutureWarning)\n"
     ]
    }
   ],
   "source": [
    "import gensim\n",
    "import nltk as nl\n",
    "from nltk.corpus import stopwords\n",
    "from sklearn.feature_extraction import stop_words\n",
    "\n",
    "# nltk.download('stopwords') ## may need to run this if errors\n",
    "nltk_stopwords = stopwords.words(\"english\")\n",
    "gensim_stopwords = gensim.parsing.preprocessing.STOPWORDS\n",
    "sklearn_stopwords = stop_words.ENGLISH_STOP_WORDS\n",
    "combined_stopwords = sklearn_stopwords.union(nltk_stopwords,gensim_stopwords)"
   ]
  },
  {
   "cell_type": "code",
   "execution_count": 18,
   "metadata": {},
   "outputs": [
    {
     "name": "stdout",
     "output_type": "stream",
     "text": [
      "NLTK has 179 stop words\n",
      "Gensim has 337 stop words\n",
      "Sklearn has 318 stop words\n",
      "Combined stopwords list has 390 stop words\n"
     ]
    }
   ],
   "source": [
    "print('NLTK has {} stop words'.format(len(nltk_stopwords)))\n",
    "print('Gensim has {} stop words'.format(len(gensim_stopwords)))\n",
    "print('Sklearn has {} stop words'.format(len(sklearn_stopwords)))\n",
    "print('Combined stopwords list has {} stop words'.format(len(combined_stopwords)))"
   ]
  },
  {
   "cell_type": "code",
   "execution_count": 19,
   "metadata": {},
   "outputs": [],
   "source": [
    "from nltk.stem import PorterStemmer \n",
    "porter_stemmer = PorterStemmer() "
   ]
  },
  {
   "cell_type": "code",
   "execution_count": 20,
   "metadata": {},
   "outputs": [],
   "source": [
    "data['title'] = data['title'].apply(lambda x: x.lower()) ## change all to lower case\n",
    "data['title'] = data['title'].apply(lambda x: ' '.join([word for word in x.split() if word.isalpha()]))\n",
    "data['title'] = data['title'].apply(lambda x: ' '.join([porter_stemmer.stem(word) for word in x.split()]))\n",
    "data['title'] = data['title'].apply(lambda x: ' '.join([word for word in x.split() if word not in (combined_stopwords)]))\n",
    "\n",
    "data['text'] = data['text'].apply(lambda x: x.lower()) ## change all to lower case\n",
    "data['text'] = data['text'].apply(lambda x: ' '.join([word for word in x.split() if word.isalpha()]))\n",
    "data['text'] = data['text'].apply(lambda x: ' '.join([porter_stemmer.stem(word) for word in x.split()]))\n",
    "data['text'] = data['text'].apply(lambda x: ' '.join([word for word in x.split() if word not in (combined_stopwords)]))\n",
    "\n",
    "data = data.dropna()"
   ]
  },
  {
   "cell_type": "code",
   "execution_count": 21,
   "metadata": {},
   "outputs": [],
   "source": [
    "data.to_csv(\"./Datasets-fakenews/Fake_news_clean.csv\",index=False)"
   ]
  },
  {
   "cell_type": "code",
   "execution_count": 6,
   "metadata": {},
   "outputs": [],
   "source": [
    "data = pd.read_csv(\"./Datasets-fakenews/Fake_news_clean.csv\")\n",
    "data = data.dropna()"
   ]
  },
  {
   "cell_type": "code",
   "execution_count": 7,
   "metadata": {},
   "outputs": [],
   "source": [
    "from sklearn.model_selection import train_test_split\n",
    "\n",
    "x_train_title,x_test_title,y_train_title,y_test_title=train_test_split(data['title'], data['label'], test_size=0.3, random_state=7)\n",
    "\n",
    "x_train_text,x_test_text,y_train_text,y_test_text=train_test_split(data['text'], data['label'], test_size=0.3, random_state=7)\n"
   ]
  },
  {
   "cell_type": "code",
   "execution_count": 8,
   "metadata": {},
   "outputs": [],
   "source": [
    "from sklearn.feature_extraction.text import TfidfVectorizer\n",
    "from nltk.tokenize import word_tokenize\n",
    "from sklearn.tree import DecisionTreeClassifier\n",
    "from sklearn.ensemble import RandomForestClassifier\n",
    "from sklearn.svm import SVC\n",
    "from sklearn.naive_bayes import MultinomialNB\n",
    "from sklearn.neighbors import KNeighborsClassifier\n",
    "from keras.models import Sequential\n",
    "from keras.layers import Dense, Activation, Dropout, Conv1D, MaxPooling1D, Flatten, Embedding, GlobalMaxPooling1D\n",
    "from keras.preprocessing.text import Tokenizer\n",
    "from keras.preprocessing.sequence import pad_sequences"
   ]
  },
  {
   "cell_type": "code",
   "execution_count": 9,
   "metadata": {},
   "outputs": [],
   "source": [
    "# nltk.download('punkt') ## may need to run this if errors\n",
    "\n",
    "tfidf_vectorizer_title = TfidfVectorizer(tokenizer = word_tokenize)\n",
    "tfidf_train_title = tfidf_vectorizer_title.fit_transform(x_train_title)\n",
    "tfidf_test_title = tfidf_vectorizer_title.transform(x_test_title)\n",
    "tfidf_features_title = tfidf_vectorizer_title.get_feature_names()\n",
    "\n",
    "tfidf_vectorizer_text = TfidfVectorizer(tokenizer = word_tokenize)\n",
    "tfidf_train_text = tfidf_vectorizer_text.fit_transform(x_train_text)\n",
    "tfidf_test_text = tfidf_vectorizer_text.transform(x_test_text)\n",
    "tfidf_features_text = tfidf_vectorizer_text.get_feature_names()"
   ]
  },
  {
   "cell_type": "code",
   "execution_count": 10,
   "metadata": {},
   "outputs": [
    {
     "name": "stdout",
     "output_type": "stream",
     "text": [
      "Testing Acc. of Random Forest: 90.17 %\n"
     ]
    }
   ],
   "source": [
    "from scipy.sparse import hstack, vstack\n",
    "\n",
    "rf = RandomForestClassifier() ### no size criteria\n",
    "\n",
    "tfidf_train = hstack((tfidf_train_title, tfidf_train_text))\n",
    "y_train = pd.concat([y_train_title, y_train_text], axis=1).reindex(y_train_title.index)\n",
    "\n",
    "rf.fit(tfidf_train, y_train)\n",
    "\n",
    "tfidf_test = hstack((tfidf_test_title, tfidf_test_text))\n",
    "y_test = pd.concat([y_test_title, y_test_text], axis=1).reindex(y_test_title.index)\n",
    "\n",
    "print(\"Testing Acc. of Random Forest: {} %\".format(round(rf.score(tfidf_test, y_test) * 100, 2)))"
   ]
  },
  {
   "cell_type": "code",
   "execution_count": 11,
   "metadata": {},
   "outputs": [],
   "source": [
    "from scipy.sparse import hstack\n",
    "score_train = rf.predict_proba(tfidf_train)\n",
    "score_test = rf.predict_proba(tfidf_test)\n",
    "\n",
    "d = {'title': list(x_train_title) + list(x_test_title), \n",
    "     'text': list(x_train_text) + list(x_test_text),\n",
    "     'score': list(score_train[0][:, 1]) + list(score_test[0][:, 1]),\n",
    "     'label':list(y_train_title) + list(y_test_title)}\n",
    "new_data = pd.DataFrame(data=d)\n",
    "\n",
    "new_data.to_csv(\"./Datasets-fakenews/Fake_news_score_full.csv\",index=False)"
   ]
  },
  {
   "cell_type": "code",
   "execution_count": 12,
   "metadata": {},
   "outputs": [
    {
     "name": "stdout",
     "output_type": "stream",
     "text": [
      "Size of the file 383746215\n",
      "Hyperparameters:\n",
      " {'bootstrap': True, 'ccp_alpha': 0.0, 'class_weight': None, 'criterion': 'gini', 'max_depth': None, 'max_features': 'auto', 'max_leaf_nodes': None, 'max_samples': None, 'min_impurity_decrease': 0.0, 'min_impurity_split': None, 'min_samples_leaf': 1, 'min_samples_split': 2, 'min_weight_fraction_leaf': 0.0, 'n_estimators': 100, 'n_jobs': None, 'oob_score': False, 'random_state': None, 'verbose': 0, 'warm_start': False}\n"
     ]
    }
   ],
   "source": [
    "import pickle\n",
    "\n",
    "# Save rf model\n",
    "print(\"Size of the file\", len(pickle.dumps(rf, -1)))\n",
    "print(\"Hyperparameters:\\n\", rf.get_params())\n",
    "pickle.dump(rf, open('rf_model_full.p', 'wb'))\n",
    "\n",
    "# load the model from disk\n",
    "# loaded_model = pickle.load(open('rf_model.p', 'rb'))\n",
    "\n",
    "import matplotlib.pyplot as plt\n",
    "\n",
    "new_data = pd.read_csv(\"./Datasets-fakenews/Fake_news_score_full.csv\")\n",
    "x_vals = abs(new_data['score'] - new_data['label'])\n",
    "\n",
    "n, bins, patches = plt.hist(x=x_vals, bins='auto', color='#0504aa',\n",
    "                            alpha=0.7, rwidth=0.85)"
   ]
  },
  {
   "cell_type": "code",
   "execution_count": 13,
   "metadata": {},
   "outputs": [
    {
     "name": "stdout",
     "output_type": "stream",
     "text": [
      "[0, 0, 0, 0]\n"
     ]
    }
   ],
   "source": [
    "clean_data = pd.read_csv(\"./Datasets-fakenews/Fake_news_score_full.csv\")\n",
    "clean_data = clean_data.dropna()\n",
    "countNull = [clean_data['title'].isnull().values.sum(), \n",
    "             clean_data['text'].isnull().values.sum(),\n",
    "             clean_data['score'].isnull().values.sum(),\n",
    "             clean_data['label'].isnull().values.sum()]\n",
    "\n",
    "print(countNull)\n",
    "\n",
    "clean_data.to_csv(\"./Datasets-fakenews/Fake_news_score_full_clean.csv\",index=False)"
   ]
  },
  {
   "cell_type": "code",
   "execution_count": 14,
   "metadata": {},
   "outputs": [
    {
     "data": {
      "image/png": "[encoded data removed]",
      "text/plain": [
       "<Figure size 432x288 with 1 Axes>"
      ]
     },
     "metadata": {},
     "output_type": "display_data"
    },
    {
     "data": {
      "image/png": "[encoded data removed]",
      "text/plain": [
       "<Figure size 432x288 with 1 Axes>"
      ]
     },
     "metadata": {},
     "output_type": "display_data"
    },
    {
     "name": "stdout",
     "output_type": "stream",
     "text": [
      "Mean, Median: Title Length [6.17054043885922, 6]\n",
      "Mean, Median: Text Length [273.91791055714896, 214]\n"
     ]
    }
   ],
   "source": [
    "trial_pd = pd.read_csv(\"./Datasets-fakenews/Fake_news_score_full_clean.csv\")\n",
    "\n",
    "title_lens = [len(str(item).split(\" \")) for item in list(trial_pd['title'])]\n",
    "text_lens = [len(str(item).split(\" \")) for item in list(trial_pd['text'])]\n",
    "\n",
    "import matplotlib.pyplot as plt\n",
    "\n",
    "# An \"interface\" to matplotlib.axes.Axes.hist() method\n",
    "n, bins, patches = plt.hist(x=title_lens, bins='auto', color='#0504aa',\n",
    "                            alpha=0.7, rwidth=0.85)\n",
    "plt.show()\n",
    "\n",
    "n, bins, patches = plt.hist(x=text_lens, bins='auto', color='#0504aa',\n",
    "                            alpha=0.7, rwidth=0.85)\n",
    "plt.show()\n",
    "\n",
    "import statistics\n",
    "\n",
    "print(\"Mean, Median: Title Length\", [statistics.mean(title_lens), statistics.median(title_lens)])\n",
    "print(\"Mean, Median: Text Length\", [statistics.mean(text_lens), statistics.median(text_lens)])"
   ]
  },
  {
   "cell_type": "code",
   "execution_count": null,
   "metadata": {},
   "outputs": [],
   "source": []
  }
 ],
 "metadata": {
  "kernelspec": {
   "display_name": "Python 3",
   "language": "python",
   "name": "python3"
  },
  "language_info": {
   "codemirror_mode": {
    "name": "ipython",
    "version": 3
   },
   "file_extension": ".py",
   "mimetype": "text/x-python",
   "name": "python",
   "nbconvert_exporter": "python",
   "pygments_lexer": "ipython3",
   "version": "3.6.5"
  }
 },
 "nbformat": 4,
 "nbformat_minor": 2
}
