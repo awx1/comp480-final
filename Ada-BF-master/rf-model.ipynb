{
 "cells": [
  {
   "cell_type": "code",
   "execution_count": 10,
   "metadata": {},
   "outputs": [],
   "source": [
    "import numpy as np \n",
    "import pandas as pd"
   ]
  },
  {
   "cell_type": "code",
   "execution_count": 11,
   "metadata": {},
   "outputs": [],
   "source": [
    "#Read Dataset\n",
    "# abc_real = pd.read_csv('./Datasets-fakenews/abcnews-date-text.csv').dropna()\n",
    "# https://www.kaggle.com/mrisdal/fake-news\n",
    "fake = pd.read_csv('./Datasets-fakenews/fake.csv', usecols = ['title', 'text']).dropna()\n",
    "# https://www.kaggle.com/clmentbisaillon/fake-and-real-news-dataset\n",
    "fake1 = pd.read_csv('./Datasets-fakenews/fake1.csv', usecols = ['title', 'text']).dropna()\n",
    "real1 = pd.read_csv('./Datasets-fakenews/true1.csv', usecols = ['title', 'text']).dropna()\n",
    "# https://bitbucket.org/WiZar-D/fake_real_dataset/downloads/\n",
    "fake_real = pd.read_csv('./Datasets-fakenews/fake_or_real_news.csv', usecols = ['title', 'text', 'label']).dropna()\n",
    "\n",
    "# https://www.kaggle.com/snapcrack/all-the-news?select=articles3.csv\n",
    "articles1 = pd.read_csv('./Datasets-fakenews/articles1.csv', usecols = ['title', 'content']).dropna()\n",
    "articles2 = pd.read_csv('./Datasets-fakenews/articles2.csv', usecols = ['title', 'content']).dropna()\n",
    "articles3 = pd.read_csv('./Datasets-fakenews/articles3.csv', usecols = ['title', 'content']).dropna()\n"
   ]
  },
  {
   "cell_type": "code",
   "execution_count": 12,
   "metadata": {},
   "outputs": [
    {
     "name": "stdout",
     "output_type": "stream",
     "text": [
      "fake\n",
      "                                               title  \\\n",
      "0  Muslims BUSTED: They Stole Millions In Gov’t B...   \n",
      "1  Re: Why Did Attorney General Loretta Lynch Ple...   \n",
      "2  BREAKING: Weiner Cooperating With FBI On Hilla...   \n",
      "3  PIN DROP SPEECH BY FATHER OF DAUGHTER Kidnappe...   \n",
      "4  FANTASTIC! TRUMP'S 7 POINT PLAN To Reform Heal...   \n",
      "\n",
      "                                                text  \n",
      "0  Print They should pay all the back all the mon...  \n",
      "1  Why Did Attorney General Loretta Lynch Plead T...  \n",
      "2  Red State : \\nFox News Sunday reported this mo...  \n",
      "3  Email Kayla Mueller was a prisoner and torture...  \n",
      "4  Email HEALTHCARE REFORM TO MAKE AMERICA GREAT ...  \n",
      "fake1\n",
      "                                               title  \\\n",
      "0   Donald Trump Sends Out Embarrassing New Year’...   \n",
      "1   Drunk Bragging Trump Staffer Started Russian ...   \n",
      "2   Sheriff David Clarke Becomes An Internet Joke...   \n",
      "3   Trump Is So Obsessed He Even Has Obama’s Name...   \n",
      "4   Pope Francis Just Called Out Donald Trump Dur...   \n",
      "\n",
      "                                                text  \n",
      "0  Donald Trump just couldn t wish all Americans ...  \n",
      "1  House Intelligence Committee Chairman Devin Nu...  \n",
      "2  On Friday, it was revealed that former Milwauk...  \n",
      "3  On Christmas day, Donald Trump announced that ...  \n",
      "4  Pope Francis used his annual Christmas Day mes...  \n",
      "fake_real\n",
      "                                               title  \\\n",
      "0                       You Can Smell Hillary’s Fear   \n",
      "1  Watch The Exact Moment Paul Ryan Committed Pol...   \n",
      "2        Kerry to go to Paris in gesture of sympathy   \n",
      "3  Bernie supporters on Twitter erupt in anger ag...   \n",
      "4   The Battle of New York: Why This Primary Matters   \n",
      "\n",
      "                                                text label  \n",
      "0  Daniel Greenfield, a Shillman Journalism Fello...  FAKE  \n",
      "1  Google Pinterest Digg Linkedin Reddit Stumbleu...  FAKE  \n",
      "2  U.S. Secretary of State John F. Kerry said Mon...  REAL  \n",
      "3  — Kaydee King (@KaydeeKing) November 9, 2016 T...  FAKE  \n",
      "4  It's primary day in New York and front-runners...  REAL  \n",
      "real1\n",
      "                                               title  \\\n",
      "0  As U.S. budget fight looms, Republicans flip t...   \n",
      "1  U.S. military to accept transgender recruits o...   \n",
      "2  Senior U.S. Republican senator: 'Let Mr. Muell...   \n",
      "3  FBI Russia probe helped by Australian diplomat...   \n",
      "4  Trump wants Postal Service to charge 'much mor...   \n",
      "\n",
      "                                                text  \n",
      "0  WASHINGTON (Reuters) - The head of a conservat...  \n",
      "1  WASHINGTON (Reuters) - Transgender people will...  \n",
      "2  WASHINGTON (Reuters) - The special counsel inv...  \n",
      "3  WASHINGTON (Reuters) - Trump campaign adviser ...  \n",
      "4  SEATTLE/WASHINGTON (Reuters) - President Donal...  \n",
      "articles1\n",
      "                                               title  \\\n",
      "0  House Republicans Fret About Winning Their Hea...   \n",
      "1  Rift Between Officers and Residents as Killing...   \n",
      "2  Tyrus Wong, ‘Bambi’ Artist Thwarted by Racial ...   \n",
      "3  Among Deaths in 2016, a Heavy Toll in Pop Musi...   \n",
      "4  Kim Jong-un Says North Korea Is Preparing to T...   \n",
      "\n",
      "                                             content  \n",
      "0  WASHINGTON  —   Congressional Republicans have...  \n",
      "1  After the bullet shells get counted, the blood...  \n",
      "2  When Walt Disney’s “Bambi” opened in 1942, cri...  \n",
      "3  Death may be the great equalizer, but it isn’t...  \n",
      "4  SEOUL, South Korea  —   North Korea’s leader, ...  \n",
      "articles2\n",
      "                                               title  \\\n",
      "0  Patriots Day Is Best When It Digs Past the Her...   \n",
      "1  A Break in the Search for the Origin of Comple...   \n",
      "2         Obama’s Ingenious Mention of Atticus Finch   \n",
      "3         Donald Trump Meets, and Assails, the Press   \n",
      "4               Trump: ’I Think’ Hacking Was Russian   \n",
      "\n",
      "                                             content  \n",
      "0  Patriots Day, Peter Berg’s new thriller that r...  \n",
      "1  In Norse mythology, humans and our world were ...  \n",
      "2  “If our democracy is to work in this increasin...  \n",
      "3  Updated on January 11 at 5:05 p. m. In his fir...  \n",
      "4  Updated at 12:25 p. m. After months of equivoc...  \n",
      "articles3\n",
      "                                               title  \\\n",
      "0  Alton Sterling’s son: ’Everyone needs to prote...   \n",
      "1  Shakespeare’s first four folios sell at auctio...   \n",
      "2  My grandmother’s death saved me from a life of...   \n",
      "3  I feared my life lacked meaning. Cancer pushed...   \n",
      "4  Texas man serving life sentence innocent of do...   \n",
      "\n",
      "                                             content  \n",
      "0  The son of a Louisiana man whose father was sh...  \n",
      "1  Copies of William Shakespeare’s first four boo...  \n",
      "2  Debt: $20, 000, Source: College, credit cards,...  \n",
      "3  It was late. I was drunk, nearing my 35th birt...  \n",
      "4  A central Texas man serving a life sentence fo...  \n"
     ]
    }
   ],
   "source": [
    "# print(\"abc_real\")\n",
    "# print(abc_real.head())\n",
    "print(\"fake\")\n",
    "print(fake.head())\n",
    "print(\"fake1\")\n",
    "print(fake1.head())\n",
    "print(\"fake_real\")\n",
    "print(fake_real.head())\n",
    "print(\"real1\")\n",
    "print(real1.head())\n",
    "\n",
    "\n",
    "print(\"articles1\")\n",
    "print(articles1.head())\n",
    "print(\"articles2\")\n",
    "print(articles2.head())\n",
    "print(\"articles3\")\n",
    "print(articles3.head())"
   ]
  },
  {
   "cell_type": "code",
   "execution_count": 13,
   "metadata": {},
   "outputs": [
    {
     "name": "stdout",
     "output_type": "stream",
     "text": [
      "fake\n",
      "['title' 'text']\n",
      "12273\n",
      "fake1\n",
      "['title' 'text']\n",
      "23481\n",
      "fake_real\n",
      "['title' 'text' 'label']\n",
      "6335\n",
      "real1\n",
      "['title' 'text']\n",
      "21417\n",
      "articles1\n",
      "['title' 'content']\n",
      "50000\n",
      "articles2\n",
      "['title' 'content']\n",
      "49998\n",
      "articles3\n",
      "['title' 'content']\n",
      "42570\n"
     ]
    }
   ],
   "source": [
    "# print(\"abc_real\")\n",
    "# print(abc_real.columns.values)\n",
    "# print(len(abc_real))\n",
    "print(\"fake\")\n",
    "print(fake.columns.values)\n",
    "print(len(fake))\n",
    "print(\"fake1\")\n",
    "print(fake1.columns.values)\n",
    "print(len(fake1))\n",
    "print(\"fake_real\")\n",
    "print(fake_real.columns.values)\n",
    "print(len(fake_real))\n",
    "print(\"real1\")\n",
    "print(real1.columns.values)\n",
    "print(len(real1))\n",
    "\n",
    "\n",
    "print(\"articles1\")\n",
    "print(articles1.columns.values)\n",
    "print(len(articles1))\n",
    "print(\"articles2\")\n",
    "print(articles2.columns.values)\n",
    "print(len(articles2))\n",
    "print(\"articles3\")\n",
    "print(articles3.columns.values)\n",
    "print(len(articles3))"
   ]
  },
  {
   "cell_type": "code",
   "execution_count": 14,
   "metadata": {},
   "outputs": [
    {
     "name": "stdout",
     "output_type": "stream",
     "text": [
      "Whole dataset contains: 167156 Real headlines and 38918 Fake headlines.\n"
     ]
    }
   ],
   "source": [
    "#Rename dataframe columns and Combine all datasets\n",
    "\n",
    "fake['label'] = 1\n",
    "fake1['label'] = 1\n",
    "fake_real['label'] = [(1 if label == 'FAKE' else 0) for label in fake_real['label']]\n",
    "real1['label'] = 0\n",
    "\n",
    "\n",
    "articles1.rename(columns={\"content\": \"text\"}, inplace=True)\n",
    "articles2.rename(columns={'content': \"text\"}, inplace=True)\n",
    "articles3.rename(columns={'content': \"text\"}, inplace=True)\n",
    "\n",
    "articles1['label'] = 0\n",
    "articles2['label'] = 0\n",
    "articles3['label'] = 0\n",
    "\n",
    "\n",
    "data = pd.concat([fake, fake1, fake_real, real1, articles1, articles2, articles3])\n",
    "num_real = sum(data['label'] == 0)\n",
    "num_fake = sum(data['label'] == 1)\n",
    "\n",
    "print(\"Whole dataset contains: \" + str(num_real) + \" Real headlines and \" + str(num_fake) + \" Fake headlines.\")"
   ]
  },
  {
   "cell_type": "code",
   "execution_count": 15,
   "metadata": {},
   "outputs": [],
   "source": [
    "data.to_csv(\"./Datasets-fakenews/Fake_news.csv\",index=False)"
   ]
  },
  {
   "cell_type": "code",
   "execution_count": 7,
   "metadata": {},
   "outputs": [
    {
     "name": "stderr",
     "output_type": "stream",
     "text": [
      "/anaconda3/lib/python3.6/site-packages/gensim/similarities/__init__.py:15: UserWarning: The gensim.similarities.levenshtein submodule is disabled, because the optional Levenshtein package <https://pypi.org/project/python-Levenshtein/> is unavailable. Install Levenhstein (e.g. `pip install python-Levenshtein`) to suppress this warning.\n",
      "  warnings.warn(msg)\n",
      "/anaconda3/lib/python3.6/site-packages/sklearn/utils/deprecation.py:143: FutureWarning: The sklearn.feature_extraction.stop_words module is  deprecated in version 0.22 and will be removed in version 0.24. The corresponding classes / functions should instead be imported from sklearn.feature_extraction.text. Anything that cannot be imported from sklearn.feature_extraction.text is now part of the private API.\n",
      "  warnings.warn(message, FutureWarning)\n"
     ]
    }
   ],
   "source": [
    "import gensim\n",
    "import nltk as nl\n",
    "from nltk.corpus import stopwords\n",
    "from sklearn.feature_extraction import stop_words\n",
    "\n",
    "# nltk.download('stopwords')\n",
    "nltk_stopwords = stopwords.words(\"english\")\n",
    "gensim_stopwords = gensim.parsing.preprocessing.STOPWORDS\n",
    "sklearn_stopwords = stop_words.ENGLISH_STOP_WORDS\n",
    "combined_stopwords = sklearn_stopwords.union(nltk_stopwords,gensim_stopwords)"
   ]
  },
  {
   "cell_type": "code",
   "execution_count": 8,
   "metadata": {},
   "outputs": [
    {
     "name": "stdout",
     "output_type": "stream",
     "text": [
      "NLTK has 179 stop words\n",
      "Gensim has 337 stop words\n",
      "Sklearn has 318 stop words\n",
      "Combined stopwords list has 390 stop words\n"
     ]
    }
   ],
   "source": [
    "print('NLTK has {} stop words'.format(len(nltk_stopwords)))\n",
    "print('Gensim has {} stop words'.format(len(gensim_stopwords)))\n",
    "print('Sklearn has {} stop words'.format(len(sklearn_stopwords)))\n",
    "print('Combined stopwords list has {} stop words'.format(len(combined_stopwords)))"
   ]
  },
  {
   "cell_type": "code",
   "execution_count": 9,
   "metadata": {},
   "outputs": [],
   "source": [
    "# from sklearn.utils import shuffle\n",
    "# data = shuffle(data, random_state = 7)\n",
    "# data.reset_index(inplace=True, drop=True)\n",
    "# ###subset data for \n",
    "\n",
    "# data, data_unused = np.split(data, [int(.3*len(data))])\n",
    "\n",
    "# num_real = sum(data['label'] == 0)\n",
    "# num_fake = sum(data['label'] == 1)\n",
    "\n",
    "# print(\"Whole dataset contains: \" + str(num_real) + \" Real headlines and \" + str(num_fake) + \" Fake headlines.\")"
   ]
  },
  {
   "cell_type": "code",
   "execution_count": 10,
   "metadata": {},
   "outputs": [],
   "source": [
    "from nltk.stem import PorterStemmer \n",
    "porter_stemmer = PorterStemmer() "
   ]
  },
  {
   "cell_type": "code",
   "execution_count": 11,
   "metadata": {},
   "outputs": [],
   "source": [
    "data['title'] = data['title'].apply(lambda x: x.lower()) ## change all to lower case\n",
    "data['title'] = data['title'].apply(lambda x: ' '.join([word for word in x.split() if word.isalpha()]))\n",
    "data['title'] = data['title'].apply(lambda x: ' '.join([porter_stemmer.stem(word) for word in x.split()]))\n",
    "data['title'] = data['title'].apply(lambda x: ' '.join([word for word in x.split() if word not in (combined_stopwords)]))\n",
    "\n",
    "data['text'] = data['text'].apply(lambda x: x.lower()) ## change all to lower case\n",
    "data['text'] = data['text'].apply(lambda x: ' '.join([word for word in x.split() if word.isalpha()]))\n",
    "data['text'] = data['text'].apply(lambda x: ' '.join([porter_stemmer.stem(word) for word in x.split()]))\n",
    "data['text'] = data['text'].apply(lambda x: ' '.join([word for word in x.split() if word not in (combined_stopwords)]))\n"
   ]
  },
  {
   "cell_type": "code",
   "execution_count": 20,
   "metadata": {},
   "outputs": [],
   "source": [
    "data.to_csv(\"./Datasets-fakenews/Fake_news_clean.csv\",index=False)"
   ]
  },
  {
   "cell_type": "code",
   "execution_count": 13,
   "metadata": {},
   "outputs": [],
   "source": [
    "from sklearn.model_selection import train_test_split\n",
    "\n",
    "# x_train,x_test,y_train,y_test=train_test_split(data['title'], data['label'], test_size=0.2, random_state=7)\n",
    "x_train_title,x_test_title,y_train_title,y_test_title=train_test_split(data['title'], data['label'], test_size=0.3, random_state=7)\n",
    "\n",
    "x_train_text,x_test_text,y_train_text,y_test_text=train_test_split(data['text'], data['label'], test_size=0.3, random_state=7)\n"
   ]
  },
  {
   "cell_type": "code",
   "execution_count": 14,
   "metadata": {},
   "outputs": [
    {
     "name": "stderr",
     "output_type": "stream",
     "text": [
      "Using TensorFlow backend.\n",
      "/anaconda3/lib/python3.6/site-packages/tensorflow/python/framework/dtypes.py:516: FutureWarning: Passing (type, 1) or '1type' as a synonym of type is deprecated; in a future version of numpy, it will be understood as (type, (1,)) / '(1,)type'.\n",
      "  _np_qint8 = np.dtype([(\"qint8\", np.int8, 1)])\n",
      "/anaconda3/lib/python3.6/site-packages/tensorflow/python/framework/dtypes.py:517: FutureWarning: Passing (type, 1) or '1type' as a synonym of type is deprecated; in a future version of numpy, it will be understood as (type, (1,)) / '(1,)type'.\n",
      "  _np_quint8 = np.dtype([(\"quint8\", np.uint8, 1)])\n",
      "/anaconda3/lib/python3.6/site-packages/tensorflow/python/framework/dtypes.py:518: FutureWarning: Passing (type, 1) or '1type' as a synonym of type is deprecated; in a future version of numpy, it will be understood as (type, (1,)) / '(1,)type'.\n",
      "  _np_qint16 = np.dtype([(\"qint16\", np.int16, 1)])\n",
      "/anaconda3/lib/python3.6/site-packages/tensorflow/python/framework/dtypes.py:519: FutureWarning: Passing (type, 1) or '1type' as a synonym of type is deprecated; in a future version of numpy, it will be understood as (type, (1,)) / '(1,)type'.\n",
      "  _np_quint16 = np.dtype([(\"quint16\", np.uint16, 1)])\n",
      "/anaconda3/lib/python3.6/site-packages/tensorflow/python/framework/dtypes.py:520: FutureWarning: Passing (type, 1) or '1type' as a synonym of type is deprecated; in a future version of numpy, it will be understood as (type, (1,)) / '(1,)type'.\n",
      "  _np_qint32 = np.dtype([(\"qint32\", np.int32, 1)])\n",
      "/anaconda3/lib/python3.6/site-packages/tensorflow/python/framework/dtypes.py:525: FutureWarning: Passing (type, 1) or '1type' as a synonym of type is deprecated; in a future version of numpy, it will be understood as (type, (1,)) / '(1,)type'.\n",
      "  np_resource = np.dtype([(\"resource\", np.ubyte, 1)])\n",
      "/anaconda3/lib/python3.6/site-packages/tensorboard/compat/tensorflow_stub/dtypes.py:541: FutureWarning: Passing (type, 1) or '1type' as a synonym of type is deprecated; in a future version of numpy, it will be understood as (type, (1,)) / '(1,)type'.\n",
      "  _np_qint8 = np.dtype([(\"qint8\", np.int8, 1)])\n",
      "/anaconda3/lib/python3.6/site-packages/tensorboard/compat/tensorflow_stub/dtypes.py:542: FutureWarning: Passing (type, 1) or '1type' as a synonym of type is deprecated; in a future version of numpy, it will be understood as (type, (1,)) / '(1,)type'.\n",
      "  _np_quint8 = np.dtype([(\"quint8\", np.uint8, 1)])\n",
      "/anaconda3/lib/python3.6/site-packages/tensorboard/compat/tensorflow_stub/dtypes.py:543: FutureWarning: Passing (type, 1) or '1type' as a synonym of type is deprecated; in a future version of numpy, it will be understood as (type, (1,)) / '(1,)type'.\n",
      "  _np_qint16 = np.dtype([(\"qint16\", np.int16, 1)])\n",
      "/anaconda3/lib/python3.6/site-packages/tensorboard/compat/tensorflow_stub/dtypes.py:544: FutureWarning: Passing (type, 1) or '1type' as a synonym of type is deprecated; in a future version of numpy, it will be understood as (type, (1,)) / '(1,)type'.\n",
      "  _np_quint16 = np.dtype([(\"quint16\", np.uint16, 1)])\n",
      "/anaconda3/lib/python3.6/site-packages/tensorboard/compat/tensorflow_stub/dtypes.py:545: FutureWarning: Passing (type, 1) or '1type' as a synonym of type is deprecated; in a future version of numpy, it will be understood as (type, (1,)) / '(1,)type'.\n",
      "  _np_qint32 = np.dtype([(\"qint32\", np.int32, 1)])\n",
      "/anaconda3/lib/python3.6/site-packages/tensorboard/compat/tensorflow_stub/dtypes.py:550: FutureWarning: Passing (type, 1) or '1type' as a synonym of type is deprecated; in a future version of numpy, it will be understood as (type, (1,)) / '(1,)type'.\n",
      "  np_resource = np.dtype([(\"resource\", np.ubyte, 1)])\n"
     ]
    }
   ],
   "source": [
    "from sklearn.feature_extraction.text import TfidfVectorizer\n",
    "from nltk.tokenize import word_tokenize\n",
    "from sklearn.tree import DecisionTreeClassifier\n",
    "from sklearn.ensemble import RandomForestClassifier\n",
    "from sklearn.svm import SVC\n",
    "from sklearn.naive_bayes import MultinomialNB\n",
    "from sklearn.neighbors import KNeighborsClassifier\n",
    "from keras.models import Sequential\n",
    "from keras.layers import Dense, Activation, Dropout, Conv1D, MaxPooling1D, Flatten, Embedding, GlobalMaxPooling1D\n",
    "from keras.preprocessing.text import Tokenizer\n",
    "from keras.preprocessing.sequence import pad_sequences"
   ]
  },
  {
   "cell_type": "code",
   "execution_count": 15,
   "metadata": {},
   "outputs": [],
   "source": [
    "# nltk.download('punkt')\n",
    "# tfidf_vectorizer = TfidfVectorizer(tokenizer = word_tokenize, max_features = 300)\n",
    "# tfidf_train = tfidf_vectorizer.fit_transform(x_train)\n",
    "# tfidf_test = tfidf_vectorizer.transform(x_test)\n",
    "# tfidf_features = tfidf_vectorizer.get_feature_names()\n",
    "\n",
    "tfidf_vectorizer_title = TfidfVectorizer(tokenizer = word_tokenize)\n",
    "tfidf_train_title = tfidf_vectorizer_title.fit_transform(x_train_title)\n",
    "tfidf_test_title = tfidf_vectorizer_title.transform(x_test_title)\n",
    "tfidf_features_title = tfidf_vectorizer_title.get_feature_names()\n",
    "\n",
    "tfidf_vectorizer_text = TfidfVectorizer(tokenizer = word_tokenize)\n",
    "tfidf_train_text = tfidf_vectorizer_text.fit_transform(x_train_text)\n",
    "tfidf_test_text = tfidf_vectorizer_text.transform(x_test_text)\n",
    "tfidf_features_text = tfidf_vectorizer_text.get_feature_names()"
   ]
  },
  {
   "cell_type": "code",
   "execution_count": 18,
   "metadata": {},
   "outputs": [
    {
     "name": "stdout",
     "output_type": "stream",
     "text": [
      "Testing Acc. of Random Forest: 89.79 %\n"
     ]
    }
   ],
   "source": [
    "from scipy.sparse import hstack, vstack\n",
    "\n",
    "rf = RandomForestClassifier()\n",
    "\n",
    "tfidf_train = hstack((tfidf_train_title, tfidf_train_text))\n",
    "y_train = pd.concat([y_train_title, y_train_text], axis=1).reindex(y_train_title.index)\n",
    "\n",
    "rf.fit(tfidf_train, y_train)\n",
    "\n",
    "tfidf_test = hstack((tfidf_test_title, tfidf_test_text))\n",
    "y_test = pd.concat([y_test_title, y_test_text], axis=1).reindex(y_test_title.index)\n",
    "\n",
    "print (\"Testing Acc. of Random Forest: {} %\".format(round(rf.score(tfidf_test, y_test) * 100, 2)))"
   ]
  },
  {
   "cell_type": "code",
   "execution_count": 40,
   "metadata": {},
   "outputs": [
    {
     "name": "stdout",
     "output_type": "stream",
     "text": [
      "<bound method spmatrix.get_shape of <144251x223759 sparse matrix of type '<class 'numpy.float64'>'\n",
      "\twith 25894728 stored elements in COOrdinate format>>\n",
      "144251\n"
     ]
    }
   ],
   "source": [
    "print(tfidf_train.get_shape)\n",
    "print(len(y_train))"
   ]
  },
  {
   "cell_type": "code",
   "execution_count": 19,
   "metadata": {},
   "outputs": [
    {
     "ename": "SyntaxError",
     "evalue": "unexpected EOF while parsing (<ipython-input-19-aab6e03c868c>, line 3)",
     "output_type": "error",
     "traceback": [
      "\u001b[0;36m  File \u001b[0;32m\"<ipython-input-19-aab6e03c868c>\"\u001b[0;36m, line \u001b[0;32m3\u001b[0m\n\u001b[0;31m    )).append(data['label'])\u001b[0m\n\u001b[0m                            ^\u001b[0m\n\u001b[0;31mSyntaxError\u001b[0m\u001b[0;31m:\u001b[0m unexpected EOF while parsing\n"
     ]
    }
   ],
   "source": [
    "from scipy.sparse import hstack\n",
    "score_train = rf.predict_proba(tfidf_train)\n",
    "score_test = rf.predict_proba(tfidf_test)"
   ]
  },
  {
   "cell_type": "code",
   "execution_count": 44,
   "metadata": {},
   "outputs": [],
   "source": [
    "# print(len(list(x_train_title) + list(x_test_title)))\n",
    "# print(len(list(x_train_text) + list(x_test_text)))\n",
    "# print(len(list(score_train[0][:, 1]) + list(score_test[0][:, 1])))\n",
    "# print(len(list(y_train_title) + list(y_test_title)))\n",
    "d = {'title': list(x_train_title) + list(x_test_title), \n",
    "     'text': list(x_train_text) + list(x_test_text),\n",
    "     'score': list(score_train[0][:, 1]) + list(score_test[0][:, 1]),\n",
    "     'label':list(y_train_title) + list(y_test_title)}\n",
    "new_data = pd.DataFrame(data=d)\n",
    "\n",
    "new_data.to_csv(\"./Datasets-fakenews/Fake_news_score.csv\",index=False)"
   ]
  },
  {
   "cell_type": "code",
   "execution_count": 29,
   "metadata": {},
   "outputs": [],
   "source": [
    "import pickle\n",
    "### Prob hash title: cleaned or before clean, shouldn't matter\n",
    "# Save rf model\n",
    "pickle.dump(rf, open('rf_model.p', 'wb'))\n",
    "\n",
    " \n",
    "# load the model from disk\n",
    "# loaded_model = pickle.load(open('rf_model.p', 'rb'))"
   ]
  },
  {
   "cell_type": "code",
   "execution_count": 9,
   "metadata": {},
   "outputs": [
    {
     "data": {
      "image/png": "[encoded data removed]",
      "text/plain": [
       "<Figure size 432x288 with 1 Axes>"
      ]
     },
     "metadata": {},
     "output_type": "display_data"
    }
   ],
   "source": [
    "import matplotlib.pyplot as plt\n",
    "\n",
    "\n",
    "new_data = pd.read_csv(\"./Datasets-fakenews/Fake_news_score.csv\")\n",
    "x_vals = abs(new_data['score'] - new_data['label'])\n",
    "# An \"interface\" to matplotlib.axes.Axes.hist() method\n",
    "n, bins, patches = plt.hist(x=x_vals, bins='auto', color='#0504aa',\n",
    "                            alpha=0.7, rwidth=0.85)"
   ]
  },
  {
   "cell_type": "code",
   "execution_count": null,
   "metadata": {},
   "outputs": [],
   "source": []
  }
 ],
 "metadata": {
  "kernelspec": {
   "display_name": "Python 3",
   "language": "python",
   "name": "python3"
  },
  "language_info": {
   "codemirror_mode": {
    "name": "ipython",
    "version": 3
   },
   "file_extension": ".py",
   "mimetype": "text/x-python",
   "name": "python",
   "nbconvert_exporter": "python",
   "pygments_lexer": "ipython3",
   "version": "3.6.5"
  }
 },
 "nbformat": 4,
 "nbformat_minor": 2
}
