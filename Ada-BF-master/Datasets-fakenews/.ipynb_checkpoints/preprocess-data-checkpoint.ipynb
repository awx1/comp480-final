{
 "cells": [
  {
   "cell_type": "code",
   "execution_count": null,
   "metadata": {},
   "outputs": [],
   "source": [
    "import numpy as np \n",
    "import pandas as pd\n",
    "\n",
    "#Read Dataset\n",
    "# abc_real = pd.read_csv('./Datasets-fakenews/abcnews-date-text.csv').dropna()\n",
    "# https://www.kaggle.com/mrisdal/fake-news\n",
    "fake = pd.read_csv('/fake.csv', usecols = ['title', 'text']).dropna()\n",
    "# https://www.kaggle.com/clmentbisaillon/fake-and-real-news-dataset\n",
    "fake1 = pd.read_csv('fake1.csv', usecols = ['title', 'text']).dropna()\n",
    "real1 = pd.read_csv('true1.csv', usecols = ['title', 'text']).dropna()\n",
    "# https://bitbucket.org/WiZar-D/fake_real_dataset/downloads/\n",
    "fake_real = pd.read_csv('fake_or_real_news.csv', usecols = ['title', 'text', 'label']).dropna()\n",
    "\n",
    "# https://www.kaggle.com/snapcrack/all-the-news?select=articles3.csv\n",
    "articles1 = pd.read_csv('articles1.csv', usecols = ['title', 'content']).dropna()\n",
    "articles2 = pd.read_csv('articles2.csv', usecols = ['title', 'content']).dropna()\n",
    "articles3 = pd.read_csv('articles3.csv', usecols = ['title', 'content']).dropna()"
   ]
  },
  {
   "cell_type": "code",
   "execution_count": null,
   "metadata": {},
   "outputs": [],
   "source": [
    "# print(\"abc_real\")\n",
    "# print(abc_real.head())\n",
    "print(\"fake\")\n",
    "print(fake.head())\n",
    "print(\"fake1\")\n",
    "print(fake1.head())\n",
    "print(\"fake_real\")\n",
    "print(fake_real.head())\n",
    "print(\"real1\")\n",
    "print(real1.head())\n",
    "\n",
    "\n",
    "print(\"articles1\")\n",
    "print(articles1.head())\n",
    "print(\"articles2\")\n",
    "print(articles2.head())\n",
    "print(\"articles3\")\n",
    "print(articles3.head())\n",
    "\n",
    "# print(\"abc_real\")\n",
    "# print(abc_real.columns.values)\n",
    "# print(len(abc_real))\n",
    "print(\"fake\")\n",
    "print(fake.columns.values)\n",
    "print(len(fake))\n",
    "print(\"fake1\")\n",
    "print(fake1.columns.values)\n",
    "print(len(fake1))\n",
    "print(\"fake_real\")\n",
    "print(fake_real.columns.values)\n",
    "print(len(fake_real))\n",
    "print(\"real1\")\n",
    "print(real1.columns.values)\n",
    "print(len(real1))\n",
    "\n",
    "\n",
    "print(\"articles1\")\n",
    "print(articles1.columns.values)\n",
    "print(len(articles1))\n",
    "print(\"articles2\")\n",
    "print(articles2.columns.values)\n",
    "print(len(articles2))\n",
    "print(\"articles3\")\n",
    "print(articles3.columns.values)\n",
    "print(len(articles3))"
   ]
  },
  {
   "cell_type": "code",
   "execution_count": null,
   "metadata": {},
   "outputs": [],
   "source": [
    "#Rename dataframe columns and Combine all datasets\n",
    "\n",
    "fake['label'] = 1\n",
    "fake1['label'] = 1\n",
    "fake_real['label'] = [(1 if label == 'FAKE' else 0) for label in fake_real['label']]\n",
    "real1['label'] = 0\n",
    "\n",
    "\n",
    "articles1.rename(columns={\"content\": \"text\"}, inplace=True)\n",
    "articles2.rename(columns={'content': \"text\"}, inplace=True)\n",
    "articles3.rename(columns={'content': \"text\"}, inplace=True)\n",
    "\n",
    "articles1['label'] = 0\n",
    "articles2['label'] = 0\n",
    "articles3['label'] = 0\n",
    "\n",
    "\n",
    "data = pd.concat([fake, fake1, fake_real, real1, articles1, articles2, articles3])\n",
    "num_real = sum(data['label'] == 0)\n",
    "num_fake = sum(data['label'] == 1)\n",
    "\n",
    "print(\"Whole dataset contains: \" + str(num_real) + \" Real headlines and \" + str(num_fake) + \" Fake headlines.\")"
   ]
  },
  {
   "cell_type": "code",
   "execution_count": null,
   "metadata": {},
   "outputs": [],
   "source": [
    "data = data.dropna()\n",
    "data.to_csv(\"./Datasets-fakenews/Fake_news.csv\",index=False)"
   ]
  }
 ],
 "metadata": {
  "kernelspec": {
   "display_name": "Python 3",
   "language": "python",
   "name": "python3"
  },
  "language_info": {
   "codemirror_mode": {
    "name": "ipython",
    "version": 3
   },
   "file_extension": ".py",
   "mimetype": "text/x-python",
   "name": "python",
   "nbconvert_exporter": "python",
   "pygments_lexer": "ipython3",
   "version": "3.6.5"
  }
 },
 "nbformat": 4,
 "nbformat_minor": 2
}
